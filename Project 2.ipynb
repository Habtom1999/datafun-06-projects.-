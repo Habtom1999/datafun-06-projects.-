{
 "cells": [
  {
   "cell_type": "code",
   "execution_count": 87,
   "metadata": {},
   "outputs": [],
   "source": [
    "# Name Habtom Woldu\n",
    "# Date 06-12-2023"
   ]
  },
  {
   "attachments": {},
   "cell_type": "markdown",
   "metadata": {},
   "source": [
    "Project Two : Monthly pharmaceutical Sales "
   ]
  },
  {
   "cell_type": "code",
   "execution_count": 88,
   "metadata": {},
   "outputs": [],
   "source": [
    "import pandas as pd\n"
   ]
  },
  {
   "attachments": {},
   "cell_type": "markdown",
   "metadata": {},
   "source": [
    "1. Read from a data file.\n",
    "Loading a CSV dataset into a DataFrame with the pandas function read_csv."
   ]
  },
  {
   "cell_type": "code",
   "execution_count": 89,
   "metadata": {},
   "outputs": [],
   "source": [
    "# Replace with the actual URL\n",
    "monthlysale = pd.read_csv(\"C:/Users/habto/Desktop/archive (11)/salesmonthly.csv\"),\n",
    "names = ['datum', 'M01AB', 'M01AE',\t'N02BA', 'N02BE', 'N05B', 'N05C', 'R03', 'R06'\n",
    "         ]\n"
   ]
  },
  {
   "cell_type": "code",
   "execution_count": 90,
   "metadata": {},
   "outputs": [
    {
     "data": {
      "text/plain": [
       "(         datum   M01AB    M01AE    N02BA     N02BE   N05B  N05C    R03     R06\n",
       " 0   2014-01-31  127.69   99.090  152.100   878.030  354.0  50.0  112.0   48.20\n",
       " 1   2014-02-28  133.32  126.050  177.000  1001.900  347.0  31.0  122.0   36.20\n",
       " 2   2014-03-31  137.44   92.950  147.655   779.275  232.0  20.0  112.0   85.40\n",
       " 3   2014-04-30  113.10   89.475  130.900   698.500  209.0  18.0   97.0   73.70\n",
       " 4   2014-05-31  101.79  119.933  132.100   628.780  270.0  23.0  107.0  123.70\n",
       " ..         ...     ...      ...      ...       ...    ...   ...    ...     ...\n",
       " 65  2019-06-30  151.54  101.627  103.200   610.000  193.0  25.0  142.0  156.04\n",
       " 66  2019-07-31  181.00  103.541   92.800   649.800  250.6  20.0  115.0  105.20\n",
       " 67  2019-08-31  181.91   88.269   84.200   518.100  237.0  26.0  145.0   97.30\n",
       " 68  2019-09-30  161.07  111.437   93.500   984.480  227.8  16.0  161.0  109.10\n",
       " 69  2019-10-31   44.37   37.300   20.650   295.150   86.0   7.0   37.0   11.13\n",
       " \n",
       " [70 rows x 9 columns],)"
      ]
     },
     "execution_count": 90,
     "metadata": {},
     "output_type": "execute_result"
    }
   ],
   "source": [
    "monthlysale"
   ]
  },
  {
   "attachments": {},
   "cell_type": "markdown",
   "metadata": {},
   "source": [
    "2. Use statistics - mean, median, mode, standard deviation, variance for column one ( MO1AB)\n",
    "import satistics to perfrom some descriptive analysis"
   ]
  },
  {
   "cell_type": "code",
   "execution_count": 91,
   "metadata": {},
   "outputs": [],
   "source": [
    "import statistics\n"
   ]
  },
  {
   "attachments": {},
   "cell_type": "markdown",
   "metadata": {},
   "source": [
    "first read the CSV file into DataFrame"
   ]
  },
  {
   "cell_type": "code",
   "execution_count": 92,
   "metadata": {},
   "outputs": [],
   "source": [
    "df = pd.read_csv(\"C:/Users/habto/Desktop/archive (11)/salesmonthly.csv\")\n"
   ]
  },
  {
   "cell_type": "code",
   "execution_count": 93,
   "metadata": {},
   "outputs": [],
   "source": [
    "mean = df['M01AB'].mean()\n"
   ]
  },
  {
   "cell_type": "code",
   "execution_count": 94,
   "metadata": {},
   "outputs": [
    {
     "name": "stdout",
     "output_type": "stream",
     "text": [
      "Mean: 149.99200000000005\n"
     ]
    }
   ],
   "source": [
    "print('Mean:', mean)\n"
   ]
  },
  {
   "cell_type": "code",
   "execution_count": 95,
   "metadata": {},
   "outputs": [],
   "source": [
    "median = df['M01AB'].median()\n"
   ]
  },
  {
   "cell_type": "code",
   "execution_count": 96,
   "metadata": {},
   "outputs": [
    {
     "name": "stdout",
     "output_type": "stream",
     "text": [
      "Median: 154.63500000000005\n"
     ]
    }
   ],
   "source": [
    "print('Median:', median)\n"
   ]
  },
  {
   "cell_type": "code",
   "execution_count": 97,
   "metadata": {},
   "outputs": [],
   "source": [
    "mode = statistics.mode(df['M01AB'])\n"
   ]
  },
  {
   "cell_type": "code",
   "execution_count": 98,
   "metadata": {},
   "outputs": [
    {
     "name": "stdout",
     "output_type": "stream",
     "text": [
      "Mode: 127.69\n"
     ]
    }
   ],
   "source": [
    "print('Mode:', mode)\n"
   ]
  },
  {
   "cell_type": "code",
   "execution_count": 99,
   "metadata": {},
   "outputs": [],
   "source": [
    "std_dev = df['M01AB'].std()\n"
   ]
  },
  {
   "cell_type": "code",
   "execution_count": 100,
   "metadata": {},
   "outputs": [
    {
     "name": "stdout",
     "output_type": "stream",
     "text": [
      "Standard Deviation: 31.48532534188045\n"
     ]
    }
   ],
   "source": [
    "print('Standard Deviation:', std_dev)\n"
   ]
  },
  {
   "cell_type": "code",
   "execution_count": 101,
   "metadata": {},
   "outputs": [],
   "source": [
    "variance = df['M01AB'].var()\n"
   ]
  },
  {
   "cell_type": "code",
   "execution_count": 102,
   "metadata": {},
   "outputs": [
    {
     "name": "stdout",
     "output_type": "stream",
     "text": [
      "Variance: 991.3257118840593\n"
     ]
    }
   ],
   "source": [
    "print('Variance:', variance)\n"
   ]
  },
  {
   "attachments": {},
   "cell_type": "markdown",
   "metadata": {},
   "source": [
    "3. Use built-in functions min(), max(), len(), count of records, number of columns, others..."
   ]
  },
  {
   "cell_type": "code",
   "execution_count": 103,
   "metadata": {},
   "outputs": [],
   "source": [
    "min_value = df['M01AB'].min()\n"
   ]
  },
  {
   "cell_type": "code",
   "execution_count": 104,
   "metadata": {},
   "outputs": [],
   "source": [
    "max_value = df['M01AB'].max()\n"
   ]
  },
  {
   "cell_type": "code",
   "execution_count": 105,
   "metadata": {},
   "outputs": [
    {
     "name": "stdout",
     "output_type": "stream",
     "text": [
      "Minimum: 0.0\n"
     ]
    }
   ],
   "source": [
    "print('Minimum:', min_value)\n"
   ]
  },
  {
   "cell_type": "code",
   "execution_count": 106,
   "metadata": {},
   "outputs": [
    {
     "name": "stdout",
     "output_type": "stream",
     "text": [
      "Maximum: 211.13000000000017\n"
     ]
    }
   ],
   "source": [
    "print('Maximum:', max_value)\n"
   ]
  },
  {
   "cell_type": "code",
   "execution_count": 107,
   "metadata": {},
   "outputs": [],
   "source": [
    "num_records = len(df)\n"
   ]
  },
  {
   "cell_type": "code",
   "execution_count": 108,
   "metadata": {},
   "outputs": [
    {
     "name": "stdout",
     "output_type": "stream",
     "text": [
      "Number of records: 70\n"
     ]
    }
   ],
   "source": [
    "print('Number of records:', num_records)\n"
   ]
  },
  {
   "cell_type": "code",
   "execution_count": 109,
   "metadata": {},
   "outputs": [],
   "source": [
    "num_columns = len(df.columns)\n"
   ]
  },
  {
   "cell_type": "code",
   "execution_count": 110,
   "metadata": {},
   "outputs": [
    {
     "name": "stdout",
     "output_type": "stream",
     "text": [
      "Number of columns: 9\n"
     ]
    }
   ],
   "source": [
    "print('Number of columns:', num_columns)\n"
   ]
  },
  {
   "cell_type": "code",
   "execution_count": 111,
   "metadata": {},
   "outputs": [],
   "source": [
    "import pandas as pd\n"
   ]
  },
  {
   "cell_type": "code",
   "execution_count": 112,
   "metadata": {},
   "outputs": [],
   "source": [
    "df = pd.read_csv(\"C:/Users/habto/Desktop/archive (11)/salesmonthly.csv\")\n"
   ]
  },
  {
   "cell_type": "code",
   "execution_count": 113,
   "metadata": {},
   "outputs": [],
   "source": [
    "def transform_sales_data(df):\n",
    "   \n",
    "    return df\n"
   ]
  },
  {
   "cell_type": "code",
   "execution_count": 114,
   "metadata": {},
   "outputs": [],
   "source": [
    "df['TotalSales'] = df['M01AB'] + df['M01AE'] + df['N02BA'] + df['N02BE'] + df['N05B'] + df['N05C'] + df['R03'] + df['R06']\n"
   ]
  },
  {
   "cell_type": "code",
   "execution_count": 115,
   "metadata": {},
   "outputs": [],
   "source": [
    "filtered_data = df[df['TotalSales'] >500] \n",
    "\n"
   ]
  },
  {
   "cell_type": "code",
   "execution_count": 116,
   "metadata": {},
   "outputs": [
    {
     "name": "stdout",
     "output_type": "stream",
     "text": [
      "         datum   M01AB    M01AE    N02BA     N02BE   N05B  N05C    R03   \n",
      "0   2014-01-31  127.69   99.090  152.100   878.030  354.0  50.0  112.0  \\\n",
      "1   2014-02-28  133.32  126.050  177.000  1001.900  347.0  31.0  122.0   \n",
      "2   2014-03-31  137.44   92.950  147.655   779.275  232.0  20.0  112.0   \n",
      "3   2014-04-30  113.10   89.475  130.900   698.500  209.0  18.0   97.0   \n",
      "4   2014-05-31  101.79  119.933  132.100   628.780  270.0  23.0  107.0   \n",
      "..         ...     ...      ...      ...       ...    ...   ...    ...   \n",
      "65  2019-06-30  151.54  101.627  103.200   610.000  193.0  25.0  142.0   \n",
      "66  2019-07-31  181.00  103.541   92.800   649.800  250.6  20.0  115.0   \n",
      "67  2019-08-31  181.91   88.269   84.200   518.100  237.0  26.0  145.0   \n",
      "68  2019-09-30  161.07  111.437   93.500   984.480  227.8  16.0  161.0   \n",
      "69  2019-10-31   44.37   37.300   20.650   295.150   86.0   7.0   37.0   \n",
      "\n",
      "       R06  TotalSales  \n",
      "0    48.20    1821.110  \n",
      "1    36.20    1974.470  \n",
      "2    85.40    1606.720  \n",
      "3    73.70    1429.675  \n",
      "4   123.70    1506.303  \n",
      "..     ...         ...  \n",
      "65  156.04    1482.407  \n",
      "66  105.20    1517.941  \n",
      "67   97.30    1377.779  \n",
      "68  109.10    1864.387  \n",
      "69   11.13     538.600  \n",
      "\n",
      "[69 rows x 10 columns]\n"
     ]
    }
   ],
   "source": [
    "print (filtered_data)"
   ]
  },
  {
   "attachments": {},
   "cell_type": "markdown",
   "metadata": {},
   "source": [
    "Getting the data of column ( R06) into a list. "
   ]
  },
  {
   "cell_type": "code",
   "execution_count": 117,
   "metadata": {},
   "outputs": [],
   "source": [
    "data_list = df['R06'].tolist()\n"
   ]
  },
  {
   "cell_type": "code",
   "execution_count": 118,
   "metadata": {},
   "outputs": [
    {
     "name": "stdout",
     "output_type": "stream",
     "text": [
      "[48.2, 36.2, 85.4, 73.7, 123.7, 109.3, 69.1, 70.80000000000001, 58.8, 74.5, 45.2, 33.4, 42.0, 47.0, 54.0, 112.0, 159.5, 125.79999999999998, 130.3, 83.7, 71.0, 72.0, 44.0, 41.73, 56.5, 58.0, 97.84, 162.39999999999998, 137.10000000000002, 134.8, 116.83, 85.3, 69.3, 60.9, 51.2, 34.9, 0.0, 30.6, 100.1, 122.4, 161.81, 151.89999999999998, 81.1, 60.1, 66.9, 51.0, 46.6, 47.1, 49.5, 39.06, 85.5, 197.1, 213.04, 120.8, 122.2, 103.1, 88.10000000000001, 76.9, 48.400000000000006, 53.1, 41.3, 69.5, 169.49999999999997, 179.10000000000002, 135.4, 156.04, 105.2, 97.3, 109.1, 11.13]\n"
     ]
    }
   ],
   "source": [
    "print(data_list)"
   ]
  },
  {
   "attachments": {},
   "cell_type": "markdown",
   "metadata": {},
   "source": [
    "Use filter(), map(), and list comprehensions to clean and transform the data."
   ]
  },
  {
   "cell_type": "code",
   "execution_count": 119,
   "metadata": {},
   "outputs": [],
   "source": [
    "df = pd.read_csv('C:/Users/habto/Desktop/archive (11)/salesmonthly.csv')\n"
   ]
  },
  {
   "cell_type": "code",
   "execution_count": 120,
   "metadata": {},
   "outputs": [],
   "source": [
    "df['R06'] = pd.to_numeric(df['R06'])\n"
   ]
  },
  {
   "cell_type": "code",
   "execution_count": 121,
   "metadata": {},
   "outputs": [],
   "source": [
    "filtered_data = df[df['R06'] > 150]\n"
   ]
  },
  {
   "cell_type": "code",
   "execution_count": 122,
   "metadata": {},
   "outputs": [
    {
     "name": "stdout",
     "output_type": "stream",
     "text": [
      "         datum   M01AB    M01AE   N02BA    N02BE   N05B  N05C    R03     R06\n",
      "16  2015-05-31  160.02  119.117  136.04  765.900  194.0  10.0  100.0  159.50\n",
      "27  2016-04-30  166.61  146.526  147.70  998.337  318.0  18.0  216.0  162.40\n",
      "40  2017-05-31  143.66  118.125   98.95  547.940  148.0  23.0  128.0  161.81\n",
      "41  2017-06-30  122.33  103.006  119.60  496.100  163.0   8.0  163.0  151.90\n",
      "51  2018-04-30  170.02  107.723   84.60  836.037  289.0  21.0  229.0  197.10\n",
      "52  2018-05-31  160.52  103.522   89.40  644.648  259.0  13.0  192.0  213.04\n",
      "62  2019-03-31  154.52  113.118   83.35  941.050  301.4  19.0  257.0  169.50\n",
      "63  2019-04-30  161.39  100.165   88.10  647.650  299.4  22.0  259.0  179.10\n",
      "65  2019-06-30  151.54  101.627  103.20  610.000  193.0  25.0  142.0  156.04\n"
     ]
    }
   ],
   "source": [
    "print(filtered_data)\n"
   ]
  },
  {
   "attachments": {},
   "cell_type": "markdown",
   "metadata": {},
   "source": [
    "# To rename the name of a column and giving a  new name "
   ]
  },
  {
   "cell_type": "code",
   "execution_count": 123,
   "metadata": {},
   "outputs": [],
   "source": [
    "column_mapping = {'M01AB': 'Anti analgesic', 'M01AE': 'Anxiolytic', 'N02BA': 'Anti diabetic', 'N02BE': 'Hypnotics', 'N05B': 'Other analgesic', 'N05C': 'AntiHistamine', 'R03': 'Anti Hypertensive', 'R06': \n",
    "                  'cough supp',}\n"
   ]
  },
  {
   "cell_type": "code",
   "execution_count": 124,
   "metadata": {},
   "outputs": [],
   "source": [
    "df.rename(columns=column_mapping, inplace=True)\n"
   ]
  },
  {
   "cell_type": "code",
   "execution_count": 125,
   "metadata": {},
   "outputs": [
    {
     "name": "stdout",
     "output_type": "stream",
     "text": [
      "{'M01AB': 'Anti analgesic', 'M01AE': 'Anxiolytic', 'N02BA': 'Anti diabetic', 'N02BE': 'Hypnotics', 'N05B': 'Other analgesic', 'N05C': 'AntiHistamine', 'R03': 'Anti Hypertensive', 'R06': 'cough supp'}\n"
     ]
    }
   ],
   "source": [
    "print(column_mapping)"
   ]
  },
  {
   "cell_type": "code",
   "execution_count": 126,
   "metadata": {},
   "outputs": [
    {
     "name": "stdout",
     "output_type": "stream",
     "text": [
      "         datum  Anti analgesic  Anxiolytic  Anti diabetic  Hypnotics   \n",
      "0   2014-01-31          127.69      99.090        152.100    878.030  \\\n",
      "1   2014-02-28          133.32     126.050        177.000   1001.900   \n",
      "2   2014-03-31          137.44      92.950        147.655    779.275   \n",
      "3   2014-04-30          113.10      89.475        130.900    698.500   \n",
      "4   2014-05-31          101.79     119.933        132.100    628.780   \n",
      "..         ...             ...         ...            ...        ...   \n",
      "65  2019-06-30          151.54     101.627        103.200    610.000   \n",
      "66  2019-07-31          181.00     103.541         92.800    649.800   \n",
      "67  2019-08-31          181.91      88.269         84.200    518.100   \n",
      "68  2019-09-30          161.07     111.437         93.500    984.480   \n",
      "69  2019-10-31           44.37      37.300         20.650    295.150   \n",
      "\n",
      "    Other analgesic  AntiHistamine  Anti Hypertensive  cough supp  \n",
      "0             354.0           50.0              112.0       48.20  \n",
      "1             347.0           31.0              122.0       36.20  \n",
      "2             232.0           20.0              112.0       85.40  \n",
      "3             209.0           18.0               97.0       73.70  \n",
      "4             270.0           23.0              107.0      123.70  \n",
      "..              ...            ...                ...         ...  \n",
      "65            193.0           25.0              142.0      156.04  \n",
      "66            250.6           20.0              115.0      105.20  \n",
      "67            237.0           26.0              145.0       97.30  \n",
      "68            227.8           16.0              161.0      109.10  \n",
      "69             86.0            7.0               37.0       11.13  \n",
      "\n",
      "[70 rows x 9 columns]\n"
     ]
    }
   ],
   "source": [
    "print(df)"
   ]
  },
  {
   "cell_type": "code",
   "execution_count": 127,
   "metadata": {},
   "outputs": [],
   "source": [
    "transformed_column = list(map(lambda value: value * 4, df['Other analgesic']))\n"
   ]
  },
  {
   "cell_type": "code",
   "execution_count": 128,
   "metadata": {},
   "outputs": [
    {
     "name": "stdout",
     "output_type": "stream",
     "text": [
      "[1416.0, 1388.0, 928.0, 836.0, 1080.0, 1292.0, 1392.0, 1680.0, 1596.0, 1888.0, 1956.0, 1968.0, 1852.0, 972.0, 832.0, 768.0, 776.0, 868.0, 812.0, 1062.0, 974.0, 888.0, 912.0, 1144.0, 992.0, 956.0, 1000.0, 1272.0, 1100.0, 1244.0, 960.0, 1102.0, 1228.0, 1248.0, 984.0, 1028.0, 4.0, 576.0, 660.0, 528.0, 592.0, 652.0, 876.0, 956.0, 892.0, 904.0, 768.0, 904.0, 916.0, 1072.0, 1524.0, 1156.0, 1036.0, 992.0, 1132.0, 1012.0, 1052.0, 1148.0, 1008.8, 1016.0, 1180.8, 997.6, 1205.6, 1197.6, 1063.1999999999998, 772.0, 1002.4, 948.0, 911.2, 344.0]\n"
     ]
    }
   ],
   "source": [
    "print(transformed_column)\n"
   ]
  },
  {
   "attachments": {},
   "cell_type": "markdown",
   "metadata": {},
   "source": [
    "Use matplotlib hist"
   ]
  },
  {
   "attachments": {},
   "cell_type": "markdown",
   "metadata": {},
   "source": [
    "# The following code is used to plot the grapgh of one of the column (MO1AE) "
   ]
  },
  {
   "cell_type": "code",
   "execution_count": 129,
   "metadata": {},
   "outputs": [],
   "source": [
    "import pandas as pd"
   ]
  },
  {
   "cell_type": "code",
   "execution_count": 130,
   "metadata": {},
   "outputs": [],
   "source": [
    "import matplotlib.pyplot as plt\n"
   ]
  },
  {
   "cell_type": "code",
   "execution_count": 131,
   "metadata": {},
   "outputs": [],
   "source": [
    "df = pd.read_csv('C:/Users/habto/Desktop/archive (11)/salesmonthly.csv')\n"
   ]
  },
  {
   "cell_type": "code",
   "execution_count": 132,
   "metadata": {},
   "outputs": [],
   "source": [
    "import matplotlib.pyplot as plt"
   ]
  },
  {
   "cell_type": "code",
   "execution_count": 133,
   "metadata": {},
   "outputs": [],
   "source": [
    "df = df.groupby(['datum'])['M01AE'].sum()\n"
   ]
  },
  {
   "cell_type": "code",
   "execution_count": 134,
   "metadata": {},
   "outputs": [
    {
     "data": {
      "text/plain": [
       "<matplotlib.legend.Legend at 0x24d25a27050>"
      ]
     },
     "execution_count": 134,
     "metadata": {},
     "output_type": "execute_result"
    },
    {
     "data": {
      "image/png": "[encoded data removed]",
      "text/plain": [
       "<Figure size 640x480 with 1 Axes>"
      ]
     },
     "metadata": {},
     "output_type": "display_data"
    }
   ],
   "source": [
    "df.plot(kind='bar', width=0.5, linewidth=2)\n",
    "\n",
    "\n",
    "plt.legend()"
   ]
  },
  {
   "cell_type": "code",
   "execution_count": 135,
   "metadata": {},
   "outputs": [],
   "source": [
    "df = pd.read_csv(\"C:/Users/habto/Desktop/archive (11)/salesmonthly.csv\")\n"
   ]
  },
  {
   "cell_type": "code",
   "execution_count": 136,
   "metadata": {},
   "outputs": [
    {
     "data": {
      "text/html": [
       "<div>\n",
       "<style scoped>\n",
       "    .dataframe tbody tr th:only-of-type {\n",
       "        vertical-align: middle;\n",
       "    }\n",
       "\n",
       "    .dataframe tbody tr th {\n",
       "        vertical-align: top;\n",
       "    }\n",
       "\n",
       "    .dataframe thead th {\n",
       "        text-align: right;\n",
       "    }\n",
       "</style>\n",
       "<table border=\"1\" class=\"dataframe\">\n",
       "  <thead>\n",
       "    <tr style=\"text-align: right;\">\n",
       "      <th></th>\n",
       "      <th>M01AB</th>\n",
       "      <th>M01AE</th>\n",
       "      <th>N02BA</th>\n",
       "      <th>N02BE</th>\n",
       "      <th>N05B</th>\n",
       "      <th>N05C</th>\n",
       "      <th>R03</th>\n",
       "      <th>R06</th>\n",
       "    </tr>\n",
       "  </thead>\n",
       "  <tbody>\n",
       "    <tr>\n",
       "      <th>count</th>\n",
       "      <td>70.000000</td>\n",
       "      <td>70.000000</td>\n",
       "      <td>70.000000</td>\n",
       "      <td>70.000000</td>\n",
       "      <td>70.000000</td>\n",
       "      <td>70.000000</td>\n",
       "      <td>70.000000</td>\n",
       "      <td>70.000000</td>\n",
       "    </tr>\n",
       "    <tr>\n",
       "      <th>mean</th>\n",
       "      <td>149.992000</td>\n",
       "      <td>116.514286</td>\n",
       "      <td>115.020843</td>\n",
       "      <td>892.542071</td>\n",
       "      <td>262.118571</td>\n",
       "      <td>17.842857</td>\n",
       "      <td>167.675000</td>\n",
       "      <td>86.662571</td>\n",
       "    </tr>\n",
       "    <tr>\n",
       "      <th>std</th>\n",
       "      <td>31.485325</td>\n",
       "      <td>27.889336</td>\n",
       "      <td>31.245899</td>\n",
       "      <td>338.843908</td>\n",
       "      <td>85.060930</td>\n",
       "      <td>8.481242</td>\n",
       "      <td>81.767979</td>\n",
       "      <td>45.859336</td>\n",
       "    </tr>\n",
       "    <tr>\n",
       "      <th>min</th>\n",
       "      <td>0.000000</td>\n",
       "      <td>0.000000</td>\n",
       "      <td>0.000000</td>\n",
       "      <td>0.000000</td>\n",
       "      <td>1.000000</td>\n",
       "      <td>0.000000</td>\n",
       "      <td>0.000000</td>\n",
       "      <td>0.000000</td>\n",
       "    </tr>\n",
       "    <tr>\n",
       "      <th>25%</th>\n",
       "      <td>137.490000</td>\n",
       "      <td>103.518250</td>\n",
       "      <td>94.375000</td>\n",
       "      <td>648.187500</td>\n",
       "      <td>223.750000</td>\n",
       "      <td>12.000000</td>\n",
       "      <td>112.000000</td>\n",
       "      <td>49.875000</td>\n",
       "    </tr>\n",
       "    <tr>\n",
       "      <th>50%</th>\n",
       "      <td>154.635000</td>\n",
       "      <td>114.840000</td>\n",
       "      <td>117.225000</td>\n",
       "      <td>865.824500</td>\n",
       "      <td>250.300000</td>\n",
       "      <td>18.000000</td>\n",
       "      <td>160.000000</td>\n",
       "      <td>74.100000</td>\n",
       "    </tr>\n",
       "    <tr>\n",
       "      <th>75%</th>\n",
       "      <td>169.000000</td>\n",
       "      <td>128.359750</td>\n",
       "      <td>133.837500</td>\n",
       "      <td>1061.580000</td>\n",
       "      <td>293.650000</td>\n",
       "      <td>23.000000</td>\n",
       "      <td>218.250000</td>\n",
       "      <td>119.807500</td>\n",
       "    </tr>\n",
       "    <tr>\n",
       "      <th>max</th>\n",
       "      <td>211.130000</td>\n",
       "      <td>222.351000</td>\n",
       "      <td>191.600000</td>\n",
       "      <td>1856.815000</td>\n",
       "      <td>492.000000</td>\n",
       "      <td>50.000000</td>\n",
       "      <td>386.000000</td>\n",
       "      <td>213.040000</td>\n",
       "    </tr>\n",
       "  </tbody>\n",
       "</table>\n",
       "</div>"
      ],
      "text/plain": [
       "            M01AB       M01AE       N02BA        N02BE        N05B       N05C   \n",
       "count   70.000000   70.000000   70.000000    70.000000   70.000000  70.000000  \\\n",
       "mean   149.992000  116.514286  115.020843   892.542071  262.118571  17.842857   \n",
       "std     31.485325   27.889336   31.245899   338.843908   85.060930   8.481242   \n",
       "min      0.000000    0.000000    0.000000     0.000000    1.000000   0.000000   \n",
       "25%    137.490000  103.518250   94.375000   648.187500  223.750000  12.000000   \n",
       "50%    154.635000  114.840000  117.225000   865.824500  250.300000  18.000000   \n",
       "75%    169.000000  128.359750  133.837500  1061.580000  293.650000  23.000000   \n",
       "max    211.130000  222.351000  191.600000  1856.815000  492.000000  50.000000   \n",
       "\n",
       "              R03         R06  \n",
       "count   70.000000   70.000000  \n",
       "mean   167.675000   86.662571  \n",
       "std     81.767979   45.859336  \n",
       "min      0.000000    0.000000  \n",
       "25%    112.000000   49.875000  \n",
       "50%    160.000000   74.100000  \n",
       "75%    218.250000  119.807500  \n",
       "max    386.000000  213.040000  "
      ]
     },
     "execution_count": 136,
     "metadata": {},
     "output_type": "execute_result"
    }
   ],
   "source": [
    "df.describe()\n"
   ]
  }
 ],
 "metadata": {
  "kernelspec": {
   "display_name": "Python 3",
   "language": "python",
   "name": "python3"
  },
  "language_info": {
   "codemirror_mode": {
    "name": "ipython",
    "version": 3
   },
   "file_extension": ".py",
   "mimetype": "text/x-python",
   "name": "python",
   "nbconvert_exporter": "python",
   "pygments_lexer": "ipython3",
   "version": "3.11.3"
  },
  "orig_nbformat": 4
 },
 "nbformat": 4,
 "nbformat_minor": 2
}
